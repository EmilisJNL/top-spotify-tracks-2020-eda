{
 "cells": [
  {
   "cell_type": "markdown",
   "metadata": {},
   "source": [
    "<h1>Identifying Key Features of a Hit Spotify Track</h1>"
   ]
  },
  {
   "cell_type": "markdown",
   "metadata": {},
   "source": [
    "<h5>The goal of this analysis is to identify the features that increase the likeliness for a track to become a hit on Spotify.<h5>\n",
    "<h5>Such insigts could be beneficial to music producers aiming to craft their music in a way that meets the taste of the average Spotify listener.<h5>"
   ]
  },
  {
   "cell_type": "markdown",
   "metadata": {},
   "source": [
    "Dataset source:\n",
    "https://www.kaggle.com/datasets/atillacolak/top-50-spotify-tracks-2020"
   ]
  },
  {
   "cell_type": "code",
   "execution_count": null,
   "metadata": {},
   "outputs": [],
   "source": [
    "import pandas as pd\n",
    "import numpy as np\n",
    "df = pd.read_csv(\"spotifytoptracks.csv\", index_col=0)\n",
    "df.head()"
   ]
  },
  {
   "cell_type": "markdown",
   "metadata": {},
   "source": [
    "Checking if there are any Null values in any of the Series."
   ]
  },
  {
   "cell_type": "code",
   "execution_count": null,
   "metadata": {},
   "outputs": [],
   "source": [
    "df.isnull().any()"
   ]
  },
  {
   "cell_type": "markdown",
   "metadata": {},
   "source": [
    "Checking for duplicate rows in the DataFrame."
   ]
  },
  {
   "cell_type": "code",
   "execution_count": null,
   "metadata": {},
   "outputs": [],
   "source": [
    "df[df.duplicated(keep=False)]"
   ]
  },
  {
   "cell_type": "markdown",
   "metadata": {},
   "source": [
    "Number of the observations in the dataset:"
   ]
  },
  {
   "cell_type": "code",
   "execution_count": null,
   "metadata": {},
   "outputs": [],
   "source": [
    "len(df)"
   ]
  },
  {
   "cell_type": "markdown",
   "metadata": {},
   "source": [
    "Number of the features in the dataset:"
   ]
  },
  {
   "cell_type": "code",
   "execution_count": null,
   "metadata": {},
   "outputs": [],
   "source": [
    "len(df.columns)"
   ]
  },
  {
   "cell_type": "markdown",
   "metadata": {},
   "source": [
    "Alternative overview the DataFrame:"
   ]
  },
  {
   "cell_type": "code",
   "execution_count": null,
   "metadata": {},
   "outputs": [],
   "source": [
    "df.info()"
   ]
  },
  {
   "cell_type": "markdown",
   "metadata": {},
   "source": [
    "Identifying categorical features:"
   ]
  },
  {
   "cell_type": "code",
   "execution_count": null,
   "metadata": {},
   "outputs": [],
   "source": [
    "for col in df.columns:\n",
    "    print(f\"{df[col].nunique()} in {col}\")"
   ]
  },
  {
   "cell_type": "markdown",
   "metadata": {},
   "source": [
    "Key (good fit for categorical data) - encodes a key the track is in:"
   ]
  },
  {
   "cell_type": "code",
   "execution_count": null,
   "metadata": {},
   "outputs": [],
   "source": [
    "df['key'].value_counts()"
   ]
  },
  {
   "cell_type": "markdown",
   "metadata": {},
   "source": [
    "Overview of genres (good fit for categorical data):"
   ]
  },
  {
   "cell_type": "code",
   "execution_count": null,
   "metadata": {},
   "outputs": [],
   "source": [
    "df['genre'].value_counts()"
   ]
  },
  {
   "cell_type": "markdown",
   "metadata": {},
   "source": [
    "Instrumentalness - the closer the instrumentalness value is to 1.0, the greater likelihood the track contains no vocal content.<br />\n",
    "(Not a good fit for categorical data)"
   ]
  },
  {
   "cell_type": "code",
   "execution_count": null,
   "metadata": {},
   "outputs": [],
   "source": [
    "df['instrumentalness'].value_counts().sort_values"
   ]
  },
  {
   "cell_type": "markdown",
   "metadata": {},
   "source": [
    "Assigning 'categorical' DataType to 'key' and 'genre' Series:"
   ]
  },
  {
   "cell_type": "code",
   "execution_count": null,
   "metadata": {},
   "outputs": [],
   "source": [
    "df[['key','genre']] = df[['key','genre']].astype('category')\n",
    "df.info()"
   ]
  },
  {
   "cell_type": "markdown",
   "metadata": {},
   "source": [
    "Identifying the numeric Series:"
   ]
  },
  {
   "cell_type": "code",
   "execution_count": null,
   "metadata": {},
   "outputs": [],
   "source": [
    "n = df.select_dtypes(include=['float','int']).columns\n",
    "print(f\"There are total of {len(n)} numeric Series in the DataFrame:\")\n",
    "print(*n, sep=\"\\n\")"
   ]
  },
  {
   "cell_type": "markdown",
   "metadata": {},
   "source": [
    "Artists with multiple songs on the list:"
   ]
  },
  {
   "cell_type": "code",
   "execution_count": null,
   "metadata": {},
   "outputs": [],
   "source": [
    "a = df[df['artist'].duplicated()][['artist']].squeeze().unique()\n",
    "print(f\"There are total of {len(a)} artists with multiple tracks on the list:\\n\")\n",
    "print(*a, sep=\"\\n\")"
   ]
  },
  {
   "cell_type": "markdown",
   "metadata": {},
   "source": [
    "List of duplicate artists and their song names:"
   ]
  },
  {
   "cell_type": "code",
   "execution_count": null,
   "metadata": {},
   "outputs": [],
   "source": [
    "df[df['artist'].duplicated(keep=False)][['artist', 'track_name']].sort_values(by=['artist','track_name'])"
   ]
  },
  {
   "cell_type": "markdown",
   "metadata": {},
   "source": [
    "Identifying the #1 artist:"
   ]
  },
  {
   "cell_type": "code",
   "execution_count": null,
   "metadata": {},
   "outputs": [],
   "source": [
    "a = df['artist'].loc[0]\n",
    "print(f\"Artist on the top of the list is:\\n{a}\")"
   ]
  },
  {
   "cell_type": "markdown",
   "metadata": {},
   "source": [
    "Number of unique artists on the list:"
   ]
  },
  {
   "cell_type": "code",
   "execution_count": null,
   "metadata": {},
   "outputs": [],
   "source": [
    "c = len(df['artist'].unique())\n",
    "print(f\"Number of unique artists on the list:\\n{c}\")"
   ]
  },
  {
   "cell_type": "markdown",
   "metadata": {},
   "source": [
    "Identifying albums that have multiple tracks on the list:"
   ]
  },
  {
   "cell_type": "code",
   "execution_count": null,
   "metadata": {},
   "outputs": [],
   "source": [
    "a = df[df['album'].duplicated()][['album']].squeeze().unique()\n",
    "print(f\"There are {len(a)} albums with multiple tracks on the list:\\n\")\n",
    "print(*a, sep=\"\\n\")"
   ]
  },
  {
   "cell_type": "markdown",
   "metadata": {},
   "source": [
    "Number of unique albums on the list:"
   ]
  },
  {
   "cell_type": "code",
   "execution_count": null,
   "metadata": {},
   "outputs": [],
   "source": [
    "a = len(df['album'].unique())\n",
    "print(f\"There are {a} unique albums on the list.\\n\")"
   ]
  },
  {
   "cell_type": "markdown",
   "metadata": {},
   "source": [
    "Danceability describes how suitable a track is for dancing based on a combination of musical elements including<br />\n",
    "tempo, rhythm stability, beat strength, and overall regularity. A value of 0.0 is least danceable and 1.0 is most danceable."
   ]
  },
  {
   "cell_type": "code",
   "execution_count": null,
   "metadata": {},
   "outputs": [],
   "source": [
    "d = df['track_name'].loc[df['danceability'] > 0.7]\n",
    "print(f\"There are {len(d)} tracks with danceability score above 0.7:\\n\")\n",
    "print(*d, sep=\"\\n\")"
   ]
  },
  {
   "cell_type": "code",
   "execution_count": null,
   "metadata": {},
   "outputs": [],
   "source": [
    "d = df['track_name'].loc[df['danceability'] < 0.4]\n",
    "print(f\"There are {len(d)} tracks with danceability score below 0.4:\\n\")\n",
    "print(*d, sep=\"\\n\")"
   ]
  },
  {
   "cell_type": "markdown",
   "metadata": {},
   "source": [
    "Loudness Units relative to Full Scale (LUFS) is a standardized way to measure the perceived loudness of audio, taking into account how humans hear sound.<br />\n",
    "Spotify normalizes the target level of tracks to -14 dB LUFS<br />\n",
    "Loudness in the DataFrame is expressed in Integrated LUFS (iLUFS) which show the original loudness of the track."
   ]
  },
  {
   "cell_type": "code",
   "execution_count": null,
   "metadata": {},
   "outputs": [],
   "source": [
    "l = df['track_name'].loc[df['loudness'] > -5]\n",
    "print(f\"There are {len(l)} tracks with loudness score above -5:\\n\")\n",
    "print(*l, sep=\"\\n\")"
   ]
  },
  {
   "cell_type": "code",
   "execution_count": null,
   "metadata": {},
   "outputs": [],
   "source": [
    "l = df['track_name'].loc[df['loudness'] < -8]\n",
    "print(f\"There are {len(l)} tracks with loudness score below -8:\\n\")\n",
    "print(*l, sep=\"\\n\")"
   ]
  },
  {
   "cell_type": "markdown",
   "metadata": {},
   "source": [
    "Longest track:"
   ]
  },
  {
   "cell_type": "code",
   "execution_count": null,
   "metadata": {},
   "outputs": [],
   "source": [
    "t = df['track_name'].loc[df['duration_ms'].idxmax()]\n",
    "count = df['duration_ms'].max()\n",
    "print(f\"The track with the longest duration ({count} ms) is: \\n{t}\")"
   ]
  },
  {
   "cell_type": "markdown",
   "metadata": {},
   "source": [
    "Shortest track:"
   ]
  },
  {
   "cell_type": "code",
   "execution_count": null,
   "metadata": {},
   "outputs": [],
   "source": [
    "t = df['track_name'].loc[df['duration_ms'].idxmin()]\n",
    "count = df['duration_ms'].min()\n",
    "print(f\"The track with the shortest duration ({count} ms) is: \\n{t}\")"
   ]
  },
  {
   "cell_type": "markdown",
   "metadata": {},
   "source": [
    "Most popular genre on the list:"
   ]
  },
  {
   "cell_type": "code",
   "execution_count": null,
   "metadata": {},
   "outputs": [],
   "source": [
    "g = df['genre'].value_counts().idxmax()\n",
    "count = df['genre'].value_counts().max()\n",
    "print(f'The most popular genre is \"{g}\" with {count} occurances on the list.')"
   ]
  },
  {
   "cell_type": "markdown",
   "metadata": {},
   "source": [
    "Genres that only appear on the list once:"
   ]
  },
  {
   "cell_type": "code",
   "execution_count": null,
   "metadata": {},
   "outputs": [],
   "source": [
    "u = df['genre'].value_counts()[df['genre'].value_counts() == 1].index\n",
    "print(f'There are {len(u)} genres with single occurance on the list:\\n')\n",
    "print(*u, sep=\"\\n\")"
   ]
  },
  {
   "cell_type": "markdown",
   "metadata": {},
   "source": [
    "Number of different genres on the list:"
   ]
  },
  {
   "cell_type": "code",
   "execution_count": null,
   "metadata": {},
   "outputs": [],
   "source": [
    "u = df['genre'].value_counts().index\n",
    "print(f'There are {len(u)} different genres in the list:\\n')\n",
    "print(*u, sep=\"\\n\")"
   ]
  },
  {
   "cell_type": "markdown",
   "metadata": {},
   "source": [
    "Pearson correlation for Series with continuous data:"
   ]
  },
  {
   "cell_type": "code",
   "execution_count": null,
   "metadata": {},
   "outputs": [],
   "source": [
    "pearson_corr = df.corr(method='pearson',numeric_only=True)\n",
    "pearson_corr"
   ]
  },
  {
   "cell_type": "code",
   "execution_count": null,
   "metadata": {},
   "outputs": [],
   "source": [
    "strong_corr = pearson_corr[((pearson_corr > 0.5) & (pearson_corr < 1)) |\n",
    "                           ((pearson_corr < -0.5) & (pearson_corr < 0))]\n",
    "mask = np.triu(np.ones_like(strong_corr, dtype=bool))\n",
    "print(\"The Pearson correlation indicates moderate-to-strong relationships in these data pairs:\")\n",
    "strong_corr.where(mask).dropna(how=\"all\").dropna(axis=1, how=\"all\").fillna(\"\")"
   ]
  },
  {
   "cell_type": "markdown",
   "metadata": {},
   "source": [
    "Spearman correlation for Series with categorical data:"
   ]
  },
  {
   "cell_type": "code",
   "execution_count": null,
   "metadata": {},
   "outputs": [],
   "source": [
    "df['genre_encoded'] = pd.factorize(df['genre'])[0]\n",
    "df['genre_encoded'] = df['genre_encoded'].astype('category')\n",
    "spearman_corr = df[['key','genre_encoded']].corr(method='spearman',numeric_only=False)\n",
    "spearman_corr"
   ]
  },
  {
   "cell_type": "code",
   "execution_count": null,
   "metadata": {},
   "outputs": [],
   "source": [
    "mask = np.triu(np.ones_like(spearman_corr, dtype=bool), k=1)\n",
    "print(\"The Spearman correlation for the categorical data indicates no meaningful associations: \")\n",
    "spearman_corr.where(mask).dropna(how=\"all\").dropna(axis=1, how=\"all\").fillna(\"\")"
   ]
  },
  {
   "cell_type": "markdown",
   "metadata": {},
   "source": [
    "Comparing average danceability, loudness, acousticness measures of the top 4 genres:\n",
    "\n"
   ]
  },
  {
   "cell_type": "code",
   "execution_count": null,
   "metadata": {},
   "outputs": [],
   "source": [
    "selected_genres = df[['genre','danceability','loudness','acousticness']].loc[df['genre'].isin(['Pop','Hip-Hop/Rap','Dance/Electronic','Alternative/Indie'])]\n",
    "selected_genres = selected_genres.groupby('genre', observed=True).mean()"
   ]
  },
  {
   "cell_type": "code",
   "execution_count": null,
   "metadata": {},
   "outputs": [],
   "source": [
    "danceability = selected_genres['danceability'].sort_values(ascending=False)\n",
    "danceability"
   ]
  },
  {
   "cell_type": "code",
   "execution_count": null,
   "metadata": {},
   "outputs": [],
   "source": [
    "loudness = selected_genres['loudness'].sort_values(ascending=False)\n",
    "loudness"
   ]
  },
  {
   "cell_type": "code",
   "execution_count": null,
   "metadata": {},
   "outputs": [],
   "source": [
    "acousticness = selected_genres['acousticness'].sort_values(ascending=False)\n",
    "acousticness"
   ]
  },
  {
   "cell_type": "markdown",
   "metadata": {},
   "source": [
    "<h3>Summarizing the findings<h3>\n",
    "\n",
    "The following features may increase the likeliness for the song to become popular on Spotify:\n",
    "<ul>\n",
    "  <li>It should be in the genre of Pop or Hip-Hop/Rap</li>\n",
    "  <li>The track should have high danceability score.</li>\n",
    "  <li>Loudness should be moderate. Howerver, Spotify normalizes loudness for all track to -14 dB LUFS. </li>\n",
    "  <li>The track should revolve around lyrics (instrumentalness = 0)</li>\n",
    "  <li>Pop tracks should have a moderate level of accousticness, where for Hip-Hop/Rap tracks it is not as important.</li>\n",
    "</ul>"
   ]
  }
 ],
 "metadata": {
  "kernelspec": {
   "display_name": ".venv",
   "language": "python",
   "name": "python3"
  },
  "language_info": {
   "codemirror_mode": {
    "name": "ipython",
    "version": 3
   },
   "file_extension": ".py",
   "mimetype": "text/x-python",
   "name": "python",
   "nbconvert_exporter": "python",
   "pygments_lexer": "ipython3",
   "version": "3.13.2"
  }
 },
 "nbformat": 4,
 "nbformat_minor": 2
}
